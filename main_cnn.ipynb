{
 "cells": [
  {
   "cell_type": "code",
   "execution_count": 27,
   "id": "6efdca0a-769d-4cbb-a461-28d5579f8c27",
   "metadata": {},
   "outputs": [],
   "source": [
    "#IMPORTS\n",
    "import cv2\n",
    "import numpy as np \n",
    "import os\n",
    "from pytesseract import Output\n",
    "import pytesseract\n",
    "import nltk\n",
    "from nltk.corpus import words\n",
    "import PIL.Image as Image\n",
    "import warnings\n",
    "import tensorflow as tf\n",
    "import csv\n",
    "import time\n",
    "from tqdm import tqdm\n",
    "import shutil\n",
    "#Proceed to EOF to use the grading function, run all functions sequentially"
   ]
  },
  {
   "cell_type": "code",
   "execution_count": 28,
   "id": "75620ab6-a866-483e-bd0c-4a8f7bd51dfb",
   "metadata": {},
   "outputs": [],
   "source": [
    "warnings.filterwarnings('ignore')"
   ]
  },
  {
   "cell_type": "code",
   "execution_count": 29,
   "id": "3ea4636b-797c-4b5e-b451-2a88415d51fa",
   "metadata": {},
   "outputs": [
    {
     "name": "stderr",
     "output_type": "stream",
     "text": [
      "[nltk_data] Downloading package words to\n",
      "[nltk_data]     C:\\Users\\tusha\\AppData\\Roaming\\nltk_data...\n",
      "[nltk_data]   Package words is already up-to-date!\n"
     ]
    }
   ],
   "source": [
    "# Download the word list\n",
    "nltk.download('words')\n",
    "# Get the list of valid words\n",
    "valid_words = set(words.words())"
   ]
  },
  {
   "cell_type": "code",
   "execution_count": 30,
   "id": "0124aeed-5a3f-4b22-b77b-5fab92432646",
   "metadata": {},
   "outputs": [],
   "source": [
    "def is_gibberish(text, threshold=0.40):\n",
    "    words_in_text = text.split()\n",
    "    if not words_in_text:\n",
    "        return True\n",
    "    \n",
    "    valid_count = sum(1 for word in words_in_text if word.lower() in valid_words)\n",
    "    valid_ratio = valid_count / len(words_in_text)\n",
    "\n",
    "    \n",
    "    return valid_ratio < threshold\n",
    "\n",
    "\n",
    "def rotate_image(image, angle):\n",
    "    (h, w) = image.shape[:2]\n",
    "    center = (w // 2, h // 2)\n",
    "\n",
    "    # Calculate the rotation matrix\n",
    "    M = cv2.getRotationMatrix2D(center, angle, 1.0)\n",
    "    \n",
    "    # Calculate the sine and cosine of the rotation matrix\n",
    "    cos = np.abs(M[0, 0])\n",
    "    sin = np.abs(M[0, 1])\n",
    "\n",
    "    # Compute the new bounding dimensions of the image\n",
    "    new_w = int((h * sin) + (w * cos))\n",
    "    new_h = int((h * cos) + (w * sin))\n",
    "\n",
    "    # Adjust the rotation matrix to account for translation\n",
    "    M[0, 2] += (new_w / 2) - center[0]\n",
    "    M[1, 2] += (new_h / 2) - center[1]\n",
    "\n",
    "    # Perform the actual rotation and return the image\n",
    "    rotated = cv2.warpAffine(image, M, (new_w, new_h))\n",
    "    return rotated\n",
    "\n",
    "\n",
    "def correct_orientation(image):\n",
    "    h, w = image.shape[:2]\n",
    "    new_image = image.copy()\n",
    "    if (h<w) :\n",
    "        new_image = rotate_image(image, 90)\n",
    "    text = pytesseract.image_to_string(new_image)\n",
    "    if is_gibberish(text):\n",
    "        new_image = rotate_image(new_image, 180)\n",
    "        \n",
    "    return new_image\n",
    "    \n",
    "\n",
    "def resizeImg(img, scale = 0.1): \n",
    "    width = int(img.shape[1]*scale)\n",
    "    height = int(img.shape[0]*(scale))\n",
    "    dimensions = (width,height)\n",
    "    return cv2.resize(img,dimensions,interpolation=cv2.INTER_AREA)\n",
    "\n",
    "def compressImages(directory):\n",
    "    filenames = os.listdir(directory)\n",
    "    for image in filenames:\n",
    "        img = cv2.imread(f'{directory}/{image}')  \n",
    "        scale = round(900/max(img.shape[:2]), 2)\n",
    "        img_reshape = resizeImg(img, scale)\n",
    "        img_gray = cv2.cvtColor(img_reshape,cv2.COLOR_BGR2GRAY)\n",
    "\n",
    "        img_orn = correct_orientation(img_gray)\n",
    "        kernel = cv2.getStructuringElement(cv2.MORPH_ELLIPSE,(1,1))\n",
    "        sharpened_image = cv2.filter2D(img_orn, -1, kernel)\n",
    "        if not os.path.exists(\"compressed\"):\n",
    "              os.makedirs(\"compressed\")\n",
    "        \n",
    "        cv2.imwrite(f\"compressed/{image}\",sharpened_image)\n",
    "    print(\"Done\")\n",
    "\n",
    "def compressImg(img):\n",
    "    scale = round(900/max(img.shape[:2]), 2)\n",
    "    img_reshape = resizeImg(img, scale)\n",
    "    img_gray = cv2.cvtColor(img_reshape,cv2.COLOR_BGR2GRAY)\n",
    "\n",
    "    img_orn = correct_orientation(img_gray)\n",
    "    kernel = cv2.getStructuringElement(cv2.MORPH_ELLIPSE,(1,1))\n",
    "    sharpened_image = cv2.filter2D(img_orn, -1, kernel)\n",
    "\n",
    "    return sharpened_image\n",
    "    \n"
   ]
  },
  {
   "cell_type": "code",
   "execution_count": 31,
   "id": "f30b245b-d64f-4ece-b6af-e7a4be9cf6f7",
   "metadata": {},
   "outputs": [],
   "source": [
    "def save_tf_answers(img, qno = -1):\n",
    "    \n",
    "    try:\n",
    "        img  = compressImg(img)\n",
    "        img = (img[:, 3*img.shape[1]//5:])\n",
    "        H,W = img.shape[0], img.shape[1]\n",
    "    \n",
    "        #print(img.shape)\n",
    "        #gray = cv2.cvtColor(img, cv2.COLOR_BGR2GRAY)\n",
    "        #Image.fromarray(gray).show()\n",
    "        canny = cv2.Canny(img, 50, 200, None, 3)\n",
    "        #Image.fromarray(canny).show()\n",
    "        \n",
    "        try:\n",
    "            lines = cv2.HoughLines(canny, 1, np.pi/180, 200)\n",
    "            lines = np.reshape(lines, (lines.shape[0], 2))\n",
    "        \n",
    "            \n",
    "            vertical_lines = []\n",
    "            \n",
    "            for  i in lines:\n",
    "                if abs(np.cos(i[1]))>0.99:\n",
    "                    if(np.cos(i[1])<0):\n",
    "                        i[0] = abs(i[0])\n",
    "                        i[1] = np.pi + i[1]\n",
    "                        vertical_lines.append(i)\n",
    "                    else:\n",
    "                        vertical_lines.append(i)\n",
    "                        \n",
    "            vertical_lines = np.array(vertical_lines)\n",
    "            vertical_lines = vertical_lines[vertical_lines[:, 0].argsort()]\n",
    "            v_edges = [vertical_lines[0],]\n",
    "            \n",
    "            for i in range(1,len(vertical_lines)):\n",
    "                if abs(vertical_lines[i][0] - v_edges[len(v_edges)-1][0]) < W//3: #Magic number\n",
    "                    pass\n",
    "                else:\n",
    "                    v_edges.append(vertical_lines[i])\n",
    "        \n",
    "            v_edges = np.array(v_edges, dtype = int)\n",
    "            \n",
    "    \n",
    "        \n",
    "            TFcol = img[:, v_edges[0][0]:v_edges[1][0]]  #Image of the True/False Column\n",
    "            \n",
    "        except Exception as e:\n",
    "            print(e)\n",
    "            print(f\"ERROR\")\n",
    "            return None\n",
    "\n",
    "        \n",
    "        #Image.fromarray(TFcol).show()    \n",
    "        cannyTF = cv2.Canny(TFcol, 10, 100, None, 3) \n",
    "    \n",
    "        boxTF = cannyTF.copy()  # To show locations of True/False boxes after processing canny image of True/False Column Image\n",
    "        horizontal = []         # Tracks the horizontal lines\n",
    "        kernel = 5              # Determines sensitivity in Line detection, ( 3 - 7) is the ideal range\n",
    "        tolerance = 10\n",
    "        for i in range(kernel,cannyTF.shape[0]-kernel):\n",
    "            h_line = False\n",
    "            for j in range(tolerance, cannyTF.shape[1]-tolerance):\n",
    "                for k in range(-1*kernel, kernel):\n",
    "                    if (cannyTF[i+k][j-1] == 255 or cannyTF[i+k][j] == 255 or cannyTF[i+k][j+1] == 255):\n",
    "                        h_line = True\n",
    "                        break\n",
    "                else:\n",
    "                    h_line = False\n",
    "                    break\n",
    "                \n",
    "                h_line = True\n",
    "            if (h_line):\n",
    "                horizontal.append(i)\n",
    "                boxTF[i,:] = 0\n",
    "            else:\n",
    "                boxTF[i, :] = 255\n",
    "        \n",
    "        min_lines = []                       # Stores the row of 1 line from each horizontal lines cluster, \n",
    "        s, n = 0, 0\n",
    "        \n",
    "        for i in range(len(horizontal)-1):\n",
    "            if horizontal[i+1]-horizontal[i] <= kernel:\n",
    "                s += horizontal[i]\n",
    "                n += 1\n",
    "                if( i == len(horizontal)-2):\n",
    "                    min_lines.append(int(s/n))\n",
    "    \n",
    "            else:\n",
    "                s += horizontal[i]\n",
    "                n += 1\n",
    "                min_lines.append(int(s/n))\n",
    "                if( i == len(horizontal)-2):\n",
    "                    min_lines.append(horizontal[-1])\n",
    "                s = 0\n",
    "                n = 0\n",
    "                \n",
    "        #print(horizontal)\n",
    "    \n",
    "        #Removes if a line is detected at the top of the Image\n",
    "        try:\n",
    "            n = len(min_lines)\n",
    "            s = 0\n",
    "            diff = []\n",
    "            for i in range(0, n-1):\n",
    "               diff.append(min_lines[i+1]-min_lines[i])\n",
    "            diff = np.array(diff)\n",
    "            mean_diff = np.mean(diff)\n",
    "            std_diff = np.std(diff)\n",
    "            ini_dist = 0\n",
    "            #print(mean_diff, std_diff, min_lines)\n",
    "                \n",
    "            if min_lines[0] < 10:\n",
    "                min_lines = min_lines[1:]\n",
    "            if (qno < 0):\n",
    "                pass\n",
    "            else:\n",
    "                try:\n",
    "                    min_lines = min_lines[:qno+1]\n",
    "                    \n",
    "                except:\n",
    "                    pass\n",
    "            if(len(min_lines) >=13):\n",
    "                    min_lines = min_lines[2:]\n",
    "                \n",
    "        except Exception as e:\n",
    "            print(e)\n",
    "            print(f\"ERROR B\") \n",
    "    \n",
    "        splits = 0\n",
    "        splitted_images = []\n",
    "        img_height = 40\n",
    "        img_width = 100\n",
    "        for i in range(len(min_lines)-1):\n",
    "            sliced_img = TFcol[min_lines[i]:min_lines[i+1], :]\n",
    "            \n",
    "            if (sliced_img.shape[0] < 25 or sliced_img.shape[0]>200):\n",
    "                continue\n",
    "            resized_img = cv2.resize(sliced_img, (img_width, img_height))\n",
    "            _, binary_img = cv2.threshold(resized_img, 128, 255, cv2.THRESH_BINARY)\n",
    "            rescaled_img = binary_img / 255.0\n",
    "            splitted_images.append(rescaled_img)\n",
    "            splits += 1\n",
    "        #print(\"splits \", splits)\n",
    "        splitted_images = np.array(splitted_images)\n",
    "        return splitted_images \n",
    "    except Exception as e:\n",
    "        print(e)\n"
   ]
  },
  {
   "cell_type": "code",
   "execution_count": 32,
   "id": "d56dee3c-95fd-4f38-acf8-599f137e98c9",
   "metadata": {},
   "outputs": [],
   "source": [
    "def evaluate_answers(model, images, correct_answers):\n",
    "    \n",
    "\n",
    "    # Predict the output for each image using the model\n",
    "    predictions = [model.predict(np.expand_dims(image, axis=0), verbose = 0) for image in images]\n",
    "    \n",
    "    # Convert predictions to readable format\n",
    "    predicted_answers = [np.argmax(pred) for pred in predictions]\n",
    "    \n",
    "    # Map numeric predictions to 'True', 'False', or 'Blank'\n",
    "    prediction_map = {0: 'True', 1: 'False', 2: 'Empty'}\n",
    "    predicted_answers = [prediction_map[pred] for pred in predicted_answers]\n",
    "    \n",
    "    # Calculate marks\n",
    "    marks = []\n",
    "    \n",
    "    \n",
    "    \n",
    "    for pred, correct in zip(predicted_answers, correct_answers):\n",
    "        if pred == correct:\n",
    "            marks.append(1)\n",
    "        else:\n",
    "            marks.append(0)\n",
    "    \n",
    "    return marks"
   ]
  },
  {
   "cell_type": "code",
   "execution_count": 35,
   "id": "be0ef05c-ee34-438b-98ad-c2d8088d8057",
   "metadata": {},
   "outputs": [],
   "source": [
    "def Grade_Sheets(directory, model, correct_answers, qno = -1):\n",
    "    current_time = str(time.time())[:10]\n",
    "    with open(f\"Graded_Sheets_cnn_{current_time}.csv\", \"w\", newline = \"\") as f:\n",
    "        writer = csv.writer(f )\n",
    "        writer.writerow([\"ID\",\"Predicted Marks\"])\n",
    "        \n",
    "        files = [file for file in os.listdir(directory) if file.endswith(('jpg', 'jpeg', 'png'))]\n",
    "        \n",
    "        for file in tqdm(files, desc=\"Grading Sheets\"):\n",
    "            try:\n",
    "                img = cv2.imread(f\"{directory}/{file}\")\n",
    "                images = save_tf_answers(img, qno)\n",
    "                \n",
    "                marks = evaluate_answers(model, images, correct_answers)\n",
    "                \n",
    "                writer.writerow([file, np.sum(marks)])\n",
    "            except:\n",
    "                print(file)"
   ]
  },
  {
   "cell_type": "code",
   "execution_count": null,
   "id": "5cac7a39-9fd9-46b1-9f3f-e9b1c8623924",
   "metadata": {},
   "outputs": [],
   "source": [
    "#Image Segregator\n",
    "#Change the file paths then run\n",
    "\n",
    "#Only Run if you need to Segregate Images based on Mapping\n",
    "#Create a Copy of Original Dataset before Running\n",
    "\n",
    "map_file = \"Phase-1 Evaluation Dataset/img_model_answer_mapping.csv\"\n",
    "img_directory = \"Phase-1 Evaluation Dataset/test\"\n",
    "with open(map_file, \"r\") as f:\n",
    "    reader = csv.reader(f); \n",
    "    skip = 0\n",
    "    for row in reader:\n",
    "        if(skip == 0):\n",
    "            skip = 1\n",
    "            continue\n",
    "        mapping = row[1]\n",
    "        image_name = row[0]\n",
    "        if not os.path.exists(mapping):\n",
    "            os.makedirs(mapping)\n",
    "        try:\n",
    "            shutil.move(f'{img_directory}/{image_name}', f'{mapping}/{image_name}')\n",
    "        except Exception as e:\n",
    "            print(e)"
   ]
  },
  {
   "cell_type": "code",
   "execution_count": 36,
   "id": "fb62ef79-1b54-4289-b3f2-80058ea485ee",
   "metadata": {},
   "outputs": [
    {
     "name": "stderr",
     "output_type": "stream",
     "text": [
      "Grading Sheets:   0%|▏                                                                 | 1/482 [00:00<03:16,  2.44it/s]"
     ]
    },
    {
     "name": "stdout",
     "output_type": "stream",
     "text": [
      "too many indices for array: array is 1-dimensional, but 2 were indexed\n",
      "ERROR\n",
      "04t0i6U.jpg\n"
     ]
    },
    {
     "name": "stderr",
     "output_type": "stream",
     "text": [
      "Grading Sheets:   1%|▍                                                                 | 3/482 [00:03<09:47,  1.23s/it]"
     ]
    },
    {
     "name": "stdout",
     "output_type": "stream",
     "text": [
      "index 1 is out of bounds for axis 0 with size 1\n",
      "ERROR\n",
      "0Ld34zC.jpg\n"
     ]
    },
    {
     "name": "stderr",
     "output_type": "stream",
     "text": [
      "Grading Sheets:   1%|▊                                                                 | 6/482 [00:07<09:28,  1.19s/it]"
     ]
    },
    {
     "name": "stdout",
     "output_type": "stream",
     "text": [
      "too many indices for array: array is 1-dimensional, but 2 were indexed\n",
      "ERROR\n",
      "0qZVJKm.jpg\n"
     ]
    },
    {
     "name": "stderr",
     "output_type": "stream",
     "text": [
      "Grading Sheets:   2%|█▎                                                               | 10/482 [00:13<10:13,  1.30s/it]"
     ]
    },
    {
     "name": "stdout",
     "output_type": "stream",
     "text": [
      "index 1 is out of bounds for axis 0 with size 1\n",
      "ERROR\n",
      "1BDUOhL.jpg\n"
     ]
    },
    {
     "name": "stderr",
     "output_type": "stream",
     "text": [
      "Grading Sheets:   3%|██▏                                                              | 16/482 [00:24<11:09,  1.44s/it]"
     ]
    },
    {
     "name": "stdout",
     "output_type": "stream",
     "text": [
      "'NoneType' object has no attribute 'shape'\n",
      "ERROR\n",
      "1zHXQVK.jpg\n"
     ]
    },
    {
     "name": "stderr",
     "output_type": "stream",
     "text": [
      "Grading Sheets:   5%|███▏                                                             | 24/482 [00:39<12:18,  1.61s/it]"
     ]
    },
    {
     "name": "stdout",
     "output_type": "stream",
     "text": [
      "too many indices for array: array is 1-dimensional, but 2 were indexed\n",
      "ERROR\n",
      "40B8D9P.jpg\n"
     ]
    },
    {
     "name": "stderr",
     "output_type": "stream",
     "text": [
      "Grading Sheets:   6%|███▋                                                             | 27/482 [00:44<11:32,  1.52s/it]"
     ]
    },
    {
     "name": "stdout",
     "output_type": "stream",
     "text": [
      "too many indices for array: array is 1-dimensional, but 2 were indexed\n",
      "ERROR\n",
      "54jROSP.jpg\n"
     ]
    },
    {
     "name": "stderr",
     "output_type": "stream",
     "text": [
      "Grading Sheets:   6%|███▊                                                             | 28/482 [00:45<10:10,  1.35s/it]"
     ]
    },
    {
     "name": "stdout",
     "output_type": "stream",
     "text": [
      "index 1 is out of bounds for axis 0 with size 1\n",
      "ERROR\n",
      "55RvBa9.jpg\n"
     ]
    },
    {
     "name": "stderr",
     "output_type": "stream",
     "text": [
      "Grading Sheets:  10%|██████▏                                                          | 46/482 [01:21<12:04,  1.66s/it]"
     ]
    },
    {
     "name": "stdout",
     "output_type": "stream",
     "text": [
      "index 1 is out of bounds for axis 0 with size 1\n",
      "ERROR\n",
      "7I0zVgw.jpg\n"
     ]
    },
    {
     "name": "stderr",
     "output_type": "stream",
     "text": [
      "Grading Sheets:  10%|██████▎                                                          | 47/482 [01:23<12:35,  1.74s/it]"
     ]
    },
    {
     "name": "stdout",
     "output_type": "stream",
     "text": [
      "list index out of range\n",
      "ERROR B\n"
     ]
    },
    {
     "name": "stderr",
     "output_type": "stream",
     "text": [
      "Grading Sheets:  10%|██████▍                                                          | 48/482 [01:23<09:40,  1.34s/it]"
     ]
    },
    {
     "name": "stdout",
     "output_type": "stream",
     "text": [
      "too many indices for array: array is 1-dimensional, but 2 were indexed\n",
      "ERROR\n",
      "7iS1YLO.jpg\n"
     ]
    },
    {
     "name": "stderr",
     "output_type": "stream",
     "text": [
      "Grading Sheets:  10%|██████▋                                                          | 50/482 [01:27<09:47,  1.36s/it]"
     ]
    },
    {
     "name": "stdout",
     "output_type": "stream",
     "text": [
      "index 1 is out of bounds for axis 0 with size 1\n",
      "ERROR\n",
      "7T7pRQW.jpg\n"
     ]
    },
    {
     "name": "stderr",
     "output_type": "stream",
     "text": [
      "Grading Sheets:  11%|███████▏                                                         | 53/482 [01:31<09:12,  1.29s/it]"
     ]
    },
    {
     "name": "stdout",
     "output_type": "stream",
     "text": [
      "index 1 is out of bounds for axis 0 with size 1\n",
      "ERROR\n",
      "89Qr0VM.jpg\n"
     ]
    },
    {
     "name": "stderr",
     "output_type": "stream",
     "text": [
      "Grading Sheets:  14%|█████████                                                        | 67/482 [01:57<09:34,  1.38s/it]"
     ]
    },
    {
     "name": "stdout",
     "output_type": "stream",
     "text": [
      "too many indices for array: array is 1-dimensional, but 2 were indexed\n",
      "ERROR\n",
      "A4qd5JR.jpg\n"
     ]
    },
    {
     "name": "stderr",
     "output_type": "stream",
     "text": [
      "Grading Sheets:  15%|█████████▍                                                       | 70/482 [02:02<09:13,  1.34s/it]"
     ]
    },
    {
     "name": "stdout",
     "output_type": "stream",
     "text": [
      "too many indices for array: array is 1-dimensional, but 2 were indexed\n",
      "ERROR\n",
      "AEvXq0w.jpg\n"
     ]
    },
    {
     "name": "stderr",
     "output_type": "stream",
     "text": [
      "Grading Sheets:  17%|███████████▎                                                     | 84/482 [02:32<13:24,  2.02s/it]"
     ]
    },
    {
     "name": "stdout",
     "output_type": "stream",
     "text": [
      "list index out of range\n",
      "ERROR B\n"
     ]
    },
    {
     "name": "stderr",
     "output_type": "stream",
     "text": [
      "Grading Sheets:  20%|█████████████                                                    | 97/482 [02:56<10:33,  1.65s/it]"
     ]
    },
    {
     "name": "stdout",
     "output_type": "stream",
     "text": [
      "index 1 is out of bounds for axis 0 with size 1\n",
      "ERROR\n",
      "CgQmkHz.jpg\n"
     ]
    },
    {
     "name": "stderr",
     "output_type": "stream",
     "text": [
      "Grading Sheets:  27%|█████████████████▏                                              | 129/482 [03:57<07:31,  1.28s/it]"
     ]
    },
    {
     "name": "stdout",
     "output_type": "stream",
     "text": [
      "index 1 is out of bounds for axis 0 with size 1\n",
      "ERROR\n",
      "ebHOerd.jpg\n"
     ]
    },
    {
     "name": "stderr",
     "output_type": "stream",
     "text": [
      "Grading Sheets:  28%|█████████████████▋                                              | 133/482 [04:05<10:51,  1.87s/it]"
     ]
    },
    {
     "name": "stdout",
     "output_type": "stream",
     "text": [
      "list index out of range\n",
      "ERROR B\n"
     ]
    },
    {
     "name": "stderr",
     "output_type": "stream",
     "text": [
      "Grading Sheets:  30%|███████████████████▌                                            | 147/482 [04:29<08:15,  1.48s/it]"
     ]
    },
    {
     "name": "stdout",
     "output_type": "stream",
     "text": [
      "'NoneType' object has no attribute 'shape'\n",
      "ERROR\n",
      "FMctx8O.jpg\n"
     ]
    },
    {
     "name": "stderr",
     "output_type": "stream",
     "text": [
      "Grading Sheets:  34%|█████████████████████▉                                          | 165/482 [05:07<09:28,  1.79s/it]"
     ]
    },
    {
     "name": "stdout",
     "output_type": "stream",
     "text": [
      "too many indices for array: array is 1-dimensional, but 2 were indexed\n",
      "ERROR\n",
      "GdDku30.jpg\n"
     ]
    },
    {
     "name": "stderr",
     "output_type": "stream",
     "text": [
      "Grading Sheets:  35%|██████████████████████▍                                         | 169/482 [05:12<07:05,  1.36s/it]"
     ]
    },
    {
     "name": "stdout",
     "output_type": "stream",
     "text": [
      "too many indices for array: array is 1-dimensional, but 2 were indexed\n",
      "ERROR\n",
      "GiTl4gv.jpg\n"
     ]
    },
    {
     "name": "stderr",
     "output_type": "stream",
     "text": [
      "Grading Sheets:  35%|██████████████████████▌                                         | 170/482 [05:12<05:40,  1.09s/it]"
     ]
    },
    {
     "name": "stdout",
     "output_type": "stream",
     "text": [
      "index 1 is out of bounds for axis 0 with size 1\n",
      "ERROR\n",
      "gKmfNLx.jpg\n"
     ]
    },
    {
     "name": "stderr",
     "output_type": "stream",
     "text": [
      "Grading Sheets:  38%|████████████████████████▌                                       | 185/482 [05:39<06:41,  1.35s/it]"
     ]
    },
    {
     "name": "stdout",
     "output_type": "stream",
     "text": [
      "too many indices for array: array is 1-dimensional, but 2 were indexed\n",
      "ERROR\n",
      "H2iPb1j.jpg\n"
     ]
    },
    {
     "name": "stderr",
     "output_type": "stream",
     "text": [
      "Grading Sheets:  40%|█████████████████████████▍                                      | 192/482 [05:54<08:34,  1.77s/it]"
     ]
    },
    {
     "name": "stdout",
     "output_type": "stream",
     "text": [
      "too many indices for array: array is 1-dimensional, but 2 were indexed\n",
      "ERROR\n",
      "hhJrQUf.jpg\n"
     ]
    },
    {
     "name": "stderr",
     "output_type": "stream",
     "text": [
      "Grading Sheets:  41%|██████████████████████████▎                                     | 198/482 [06:06<08:35,  1.82s/it]"
     ]
    },
    {
     "name": "stdout",
     "output_type": "stream",
     "text": [
      "too many indices for array: array is 1-dimensional, but 2 were indexed\n",
      "ERROR\n",
      "IbBere6.jpg\n"
     ]
    },
    {
     "name": "stderr",
     "output_type": "stream",
     "text": [
      "Grading Sheets:  42%|██████████████████████████▋                                     | 201/482 [06:11<07:41,  1.64s/it]"
     ]
    },
    {
     "name": "stdout",
     "output_type": "stream",
     "text": [
      "too many indices for array: array is 1-dimensional, but 2 were indexed\n",
      "ERROR\n",
      "icWtiVC.jpg\n"
     ]
    },
    {
     "name": "stderr",
     "output_type": "stream",
     "text": [
      "Grading Sheets:  44%|███████████████████████████▉                                    | 210/482 [06:30<07:29,  1.65s/it]"
     ]
    },
    {
     "name": "stdout",
     "output_type": "stream",
     "text": [
      "too many indices for array: array is 1-dimensional, but 2 were indexed\n",
      "ERROR\n",
      "IUmBbJR.jpg\n"
     ]
    },
    {
     "name": "stderr",
     "output_type": "stream",
     "text": [
      "Grading Sheets:  46%|█████████████████████████████▌                                  | 223/482 [06:54<06:31,  1.51s/it]"
     ]
    },
    {
     "name": "stdout",
     "output_type": "stream",
     "text": [
      "too many indices for array: array is 1-dimensional, but 2 were indexed\n",
      "ERROR\n",
      "JR5NBIN.jpg\n"
     ]
    },
    {
     "name": "stderr",
     "output_type": "stream",
     "text": [
      "Grading Sheets:  52%|█████████████████████████████████                               | 249/482 [07:46<05:57,  1.54s/it]"
     ]
    },
    {
     "name": "stdout",
     "output_type": "stream",
     "text": [
      "too many indices for array: array is 1-dimensional, but 2 were indexed\n",
      "ERROR\n",
      "l1ZVgCG.jpg\n"
     ]
    },
    {
     "name": "stderr",
     "output_type": "stream",
     "text": [
      "Grading Sheets:  52%|█████████████████████████████████▍                              | 252/482 [07:53<07:18,  1.91s/it]"
     ]
    },
    {
     "name": "stdout",
     "output_type": "stream",
     "text": [
      "list index out of range\n",
      "ERROR B\n"
     ]
    },
    {
     "name": "stderr",
     "output_type": "stream",
     "text": [
      "Grading Sheets:  54%|██████████████████████████████████▌                             | 260/482 [08:08<06:37,  1.79s/it]"
     ]
    },
    {
     "name": "stdout",
     "output_type": "stream",
     "text": [
      "index 1 is out of bounds for axis 0 with size 1\n",
      "ERROR\n",
      "LSxnasq.jpg\n"
     ]
    },
    {
     "name": "stderr",
     "output_type": "stream",
     "text": [
      "Grading Sheets:  57%|████████████████████████████████████▏                           | 273/482 [08:35<06:16,  1.80s/it]"
     ]
    },
    {
     "name": "stdout",
     "output_type": "stream",
     "text": [
      "too many indices for array: array is 1-dimensional, but 2 were indexed\n",
      "ERROR\n",
      "MmuQQou.jpg\n"
     ]
    },
    {
     "name": "stderr",
     "output_type": "stream",
     "text": [
      "Grading Sheets:  57%|████████████████████████████████████▌                           | 275/482 [08:38<05:32,  1.61s/it]"
     ]
    },
    {
     "name": "stdout",
     "output_type": "stream",
     "text": [
      "index 1 is out of bounds for axis 0 with size 1\n",
      "ERROR\n",
      "mrijc85.jpg\n"
     ]
    },
    {
     "name": "stderr",
     "output_type": "stream",
     "text": [
      "Grading Sheets:  60%|██████████████████████████████████████▎                         | 289/482 [09:06<05:59,  1.86s/it]"
     ]
    },
    {
     "name": "stdout",
     "output_type": "stream",
     "text": [
      "index 1 is out of bounds for axis 0 with size 1\n",
      "ERROR\n",
      "niEMuqt.jpg\n"
     ]
    },
    {
     "name": "stderr",
     "output_type": "stream",
     "text": [
      "Grading Sheets:  60%|██████████████████████████████████████▌                         | 290/482 [09:07<04:39,  1.45s/it]"
     ]
    },
    {
     "name": "stdout",
     "output_type": "stream",
     "text": [
      "too many indices for array: array is 1-dimensional, but 2 were indexed\n",
      "ERROR\n",
      "NNgkxyl.jpg\n"
     ]
    },
    {
     "name": "stderr",
     "output_type": "stream",
     "text": [
      "Grading Sheets:  61%|██████████████████████████████████████▊                         | 292/482 [09:09<04:14,  1.34s/it]"
     ]
    },
    {
     "name": "stdout",
     "output_type": "stream",
     "text": [
      "list index out of range\n",
      "ERROR B\n"
     ]
    },
    {
     "name": "stderr",
     "output_type": "stream",
     "text": [
      "Grading Sheets:  61%|███████████████████████████████████████▏                        | 295/482 [09:15<05:26,  1.74s/it]"
     ]
    },
    {
     "name": "stdout",
     "output_type": "stream",
     "text": [
      "list index out of range\n",
      "ERROR B\n"
     ]
    },
    {
     "name": "stderr",
     "output_type": "stream",
     "text": [
      "Grading Sheets:  62%|███████████████████████████████████████▍                        | 297/482 [09:19<05:14,  1.70s/it]"
     ]
    },
    {
     "name": "stdout",
     "output_type": "stream",
     "text": [
      "too many indices for array: array is 1-dimensional, but 2 were indexed\n",
      "ERROR\n",
      "nx4Jtjd.jpg\n"
     ]
    },
    {
     "name": "stderr",
     "output_type": "stream",
     "text": [
      "Grading Sheets:  71%|█████████████████████████████████████████████▋                  | 344/482 [10:56<03:28,  1.51s/it]"
     ]
    },
    {
     "name": "stdout",
     "output_type": "stream",
     "text": [
      "too many indices for array: array is 1-dimensional, but 2 were indexed\n",
      "ERROR\n",
      "rijC15L.jpg\n"
     ]
    },
    {
     "name": "stderr",
     "output_type": "stream",
     "text": [
      "Grading Sheets:  72%|█████████████████████████████████████████████▉                  | 346/482 [10:58<02:48,  1.24s/it]"
     ]
    },
    {
     "name": "stdout",
     "output_type": "stream",
     "text": [
      "too many indices for array: array is 1-dimensional, but 2 were indexed\n",
      "ERROR\n",
      "rjFS7o6.jpg\n"
     ]
    },
    {
     "name": "stderr",
     "output_type": "stream",
     "text": [
      "Grading Sheets:  72%|██████████████████████████████████████████████▏                 | 348/482 [11:00<02:26,  1.09s/it]"
     ]
    },
    {
     "name": "stdout",
     "output_type": "stream",
     "text": [
      "index 1 is out of bounds for axis 0 with size 1\n",
      "ERROR\n",
      "RNxITzv.jpg\n"
     ]
    },
    {
     "name": "stderr",
     "output_type": "stream",
     "text": [
      "Grading Sheets:  75%|███████████████████████████████████████████████▉                | 361/482 [11:28<04:13,  2.09s/it]"
     ]
    },
    {
     "name": "stdout",
     "output_type": "stream",
     "text": [
      "index 1 is out of bounds for axis 0 with size 1\n",
      "ERROR\n",
      "Sb9xEDW.jpg\n"
     ]
    },
    {
     "name": "stderr",
     "output_type": "stream",
     "text": [
      "Grading Sheets:  79%|██████████████████████████████████████████████████▍             | 380/482 [12:09<03:03,  1.80s/it]"
     ]
    },
    {
     "name": "stdout",
     "output_type": "stream",
     "text": [
      "too many indices for array: array is 1-dimensional, but 2 were indexed\n",
      "ERROR\n",
      "SxOFztL.jpg\n"
     ]
    },
    {
     "name": "stderr",
     "output_type": "stream",
     "text": [
      "Grading Sheets:  80%|███████████████████████████████████████████████████▍            | 387/482 [12:25<03:07,  1.98s/it]"
     ]
    },
    {
     "name": "stdout",
     "output_type": "stream",
     "text": [
      "too many indices for array: array is 1-dimensional, but 2 were indexed\n",
      "ERROR\n",
      "tDvfNiE.jpg\n"
     ]
    },
    {
     "name": "stderr",
     "output_type": "stream",
     "text": [
      "Grading Sheets:  82%|████████████████████████████████████████████████████▎           | 394/482 [12:40<02:46,  1.90s/it]"
     ]
    },
    {
     "name": "stdout",
     "output_type": "stream",
     "text": [
      "too many indices for array: array is 1-dimensional, but 2 were indexed\n",
      "ERROR\n",
      "U1tXBng.jpg\n"
     ]
    },
    {
     "name": "stderr",
     "output_type": "stream",
     "text": [
      "Grading Sheets:  89%|█████████████████████████████████████████████████████████▏      | 431/482 [13:55<01:34,  1.86s/it]"
     ]
    },
    {
     "name": "stdout",
     "output_type": "stream",
     "text": [
      "index 1 is out of bounds for axis 0 with size 1\n",
      "ERROR\n",
      "wGegiaZ.jpg\n"
     ]
    },
    {
     "name": "stderr",
     "output_type": "stream",
     "text": [
      "Grading Sheets:  97%|██████████████████████████████████████████████████████████████  | 467/482 [15:10<00:26,  1.75s/it]"
     ]
    },
    {
     "name": "stdout",
     "output_type": "stream",
     "text": [
      "index 1 is out of bounds for axis 0 with size 1\n",
      "ERROR\n",
      "yRPD0Dn.jpg\n"
     ]
    },
    {
     "name": "stderr",
     "output_type": "stream",
     "text": [
      "Grading Sheets:  98%|██████████████████████████████████████████████████████████████▌ | 471/482 [15:17<00:16,  1.50s/it]"
     ]
    },
    {
     "name": "stdout",
     "output_type": "stream",
     "text": [
      "index 1 is out of bounds for axis 0 with size 1\n",
      "ERROR\n",
      "yyY2D8i.jpg\n"
     ]
    },
    {
     "name": "stderr",
     "output_type": "stream",
     "text": [
      "Grading Sheets:  98%|██████████████████████████████████████████████████████████████▉ | 474/482 [15:22<00:11,  1.46s/it]"
     ]
    },
    {
     "name": "stdout",
     "output_type": "stream",
     "text": [
      "'NoneType' object has no attribute 'shape'\n",
      "ERROR\n",
      "zaZoS31.jpg\n"
     ]
    },
    {
     "name": "stderr",
     "output_type": "stream",
     "text": [
      "Grading Sheets: 100%|███████████████████████████████████████████████████████████████▊| 481/482 [15:36<00:01,  1.76s/it]"
     ]
    },
    {
     "name": "stdout",
     "output_type": "stream",
     "text": [
      "too many indices for array: array is 1-dimensional, but 2 were indexed\n",
      "ERROR\n",
      "zWXFXYW.jpg\n"
     ]
    },
    {
     "name": "stderr",
     "output_type": "stream",
     "text": [
      "Grading Sheets: 100%|████████████████████████████████████████████████████████████████| 482/482 [15:39<00:00,  1.95s/it]"
     ]
    },
    {
     "name": "stdout",
     "output_type": "stream",
     "text": [
      "FINISHED: 939.0876700878143\n"
     ]
    },
    {
     "name": "stderr",
     "output_type": "stream",
     "text": [
      "\n"
     ]
    }
   ],
   "source": [
    "#USAGE => Add the directory path to the sheets to be graded in directory variable, load model, load correct answers.\n",
    "\n",
    "directory = \"model_answer_type2\"\n",
    "model_path = \"best_models/best_model_cnn.keras\"\n",
    "model = tf.keras.models.load_model(model_path)\n",
    "correct_answers = ['True', 'True', 'False', 'False', 'False', 'False', 'False', 'True', 'True', 'True']\n",
    "#correct_answers = ['False', 'False', 'False', 'False', 'False', 'False', 'True', 'True', 'True', 'True']\n",
    "\n",
    "\n",
    "s = time.time()\n",
    "Grade_Sheets(directory, model, correct_answers)\n",
    "print(\"FINISHED:\", time.time()-s)"
   ]
  },
  {
   "cell_type": "code",
   "execution_count": 37,
   "id": "e7762ccf-26ec-4d53-a09b-bb97f68977ba",
   "metadata": {},
   "outputs": [
    {
     "ename": "SyntaxError",
     "evalue": "unterminated string literal (detected at line 26) (1593136013.py, line 26)",
     "output_type": "error",
     "traceback": [
      "\u001b[1;36m  Cell \u001b[1;32mIn[37], line 26\u001b[1;36m\u001b[0m\n\u001b[1;33m    if not os.path.exists(\"output):\u001b[0m\n\u001b[1;37m                          ^\u001b[0m\n\u001b[1;31mSyntaxError\u001b[0m\u001b[1;31m:\u001b[0m unterminated string literal (detected at line 26)\n"
     ]
    }
   ],
   "source": [
    "#Untested \n",
    "\n",
    "submission_dict = []\n",
    "submission_list = []\n",
    "with open(\"Phase-1 Evaluation Dataset/submission.csv\", \"r\") as f:\n",
    "    reader = csv.reader(f)\n",
    "    skip = 0\n",
    "    \n",
    "    for row in reader:\n",
    "        if(skip == 0):\n",
    "            skip = 1\n",
    "            continue\n",
    "        submission_dict[row[0]] = 5\n",
    "        submission_list.append(row[0])\n",
    "print(submission_dict)\n",
    "with open(\"prediction.csv\", 'r') as f:\n",
    "    reader = csv.reader(f)\n",
    "    skip = 0\n",
    "    \n",
    "    for row in reader:\n",
    "        if(skip == 0):\n",
    "            skip = 1\n",
    "            continue\n",
    "        submission_dict[row[0]] = row[1]\n",
    "\n",
    "if not os.path.exists(\"output):\n",
    "    os.makedirs(\"output\")\n",
    "with open(\"output/submission.csv\", 'w') as f:\n",
    "    writer = csv.writer(f)\n",
    "    for i in submission_list:\n",
    "        writer.writerow([i, submission_dict[i]])\n",
    "    "
   ]
  },
  {
   "cell_type": "code",
   "execution_count": null,
   "id": "4672501f-8300-42b8-bdd8-259f41680bf5",
   "metadata": {},
   "outputs": [],
   "source": []
  }
 ],
 "metadata": {
  "kernelspec": {
   "display_name": "Python 3 (ipykernel)",
   "language": "python",
   "name": "python3"
  },
  "language_info": {
   "codemirror_mode": {
    "name": "ipython",
    "version": 3
   },
   "file_extension": ".py",
   "mimetype": "text/x-python",
   "name": "python",
   "nbconvert_exporter": "python",
   "pygments_lexer": "ipython3",
   "version": "3.10.6"
  }
 },
 "nbformat": 4,
 "nbformat_minor": 5
}
